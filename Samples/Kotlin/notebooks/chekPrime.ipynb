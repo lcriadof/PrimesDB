{
 "cells": [
  {
   "cell_type": "code",
   "metadata": {
    "collapsed": true,
    "ExecuteTime": {
     "end_time": "2025-03-01T21:26:58.906924900Z",
     "start_time": "2025-03-01T21:26:58.875687500Z"
    }
   },
   "source": "import java.io.File\n",
   "outputs": [],
   "execution_count": 1
  },
  {
   "metadata": {
    "ExecuteTime": {
     "end_time": "2025-03-01T21:26:59.255160200Z",
     "start_time": "2025-03-01T21:26:58.924055800Z"
    }
   },
   "cell_type": "code",
   "source": [
    "fun esPrimoBaseDatos(numeroComprobacion: Int, baseDatos: ByteArray): Boolean {\n",
    "    if (numeroComprobacion in listOf(2, 3, 5, 7)) {\n",
    "        return true  // Es primo\n",
    "    }\n",
    "\n",
    "    val ultimoDigito = numeroComprobacion % 10\n",
    "    if (ultimoDigito in listOf(0, 2, 4, 5, 6, 8)) {\n",
    "        return false  // No es primo\n",
    "    }\n",
    "\n",
    "    val decada = numeroComprobacion / 10\n",
    "    val direccion = decada / 2 // Cálculo del byte en la base de datos\n",
    "\n",
    "    // Verificar si la dirección está dentro de los límites del archivo\n",
    "    if (direccion < 0 || direccion >= baseDatos.size) {\n",
    "        return false  // Número fuera del rango de la base de datos\n",
    "    }\n",
    "\n",
    "    val bits = mapOf(1 to 0, 3 to 1, 7 to 2, 9 to 3)\n",
    "    var posicionBit = bits[ultimoDigito] ?: return false // Si el dígito no está en el mapa, no es primo\n",
    "    if (decada % 2 == 0) {\n",
    "        posicionBit += 4  // Si la década es par, usamos el nibble más significativo\n",
    "    }\n",
    "\n",
    "    val byte = baseDatos[direccion].toInt() and 0xFF // Convertimos a entero sin signo\n",
    "    val bitValor = (byte shr posicionBit) and 1\n",
    "\n",
    "    return bitValor == 1\n",
    "}\n"
   ],
   "outputs": [],
   "execution_count": 2
  },
  {
   "metadata": {
    "ExecuteTime": {
     "end_time": "2025-03-01T21:27:03.637150300Z",
     "start_time": "2025-03-01T21:27:03.511006100Z"
    }
   },
   "cell_type": "code",
   "source": "val baseDatos = File(\"../../../PrimesDB/0000.pdb\").readBytes()",
   "outputs": [],
   "execution_count": 3
  },
  {
   "metadata": {
    "ExecuteTime": {
     "end_time": "2025-03-01T21:27:17.707105500Z",
     "start_time": "2025-03-01T21:27:17.666014600Z"
    }
   },
   "cell_type": "code",
   "source": [
    " //  Ingrese el número que desea comprobar\n",
    " var entrada = 756101\n"
   ],
   "outputs": [],
   "execution_count": 6
  },
  {
   "metadata": {
    "ExecuteTime": {
     "end_time": "2025-03-01T21:27:20.118737900Z",
     "start_time": "2025-03-01T21:27:20.009803700Z"
    }
   },
   "cell_type": "code",
   "source": [
    "\n",
    "try {\n",
    "   if (entrada > 1_342_177_280) {\n",
    "         println(\"Introduzca un número válido menor o igual a 1342177280\")\n",
    "    }\n",
    "    var resultado = esPrimoBaseDatos(entrada, baseDatos)\n",
    "    println(\"$entrada ${if (resultado) \"ES PRIMO\" else \"no es primo\"}\")\n",
    "} catch (e: Exception) {\n",
    "    println(\"Entrada no válida, intente de nuevo.\")\n",
    "}\n"
   ],
   "outputs": [
    {
     "name": "stdout",
     "output_type": "stream",
     "text": [
      "756101 no es primo\r\n"
     ]
    }
   ],
   "execution_count": 7
  },
  {
   "metadata": {},
   "cell_type": "code",
   "outputs": [],
   "execution_count": null,
   "source": ""
  }
 ],
 "metadata": {
  "kernelspec": {
   "display_name": "Kotlin",
   "language": "kotlin",
   "name": "kotlin"
  },
  "language_info": {
   "name": "kotlin",
   "version": "1.9.23",
   "mimetype": "text/x-kotlin",
   "file_extension": ".kt",
   "pygments_lexer": "kotlin",
   "codemirror_mode": "text/x-kotlin",
   "nbconvert_exporter": ""
  },
  "ktnbPluginMetadata": {
   "projectDependencies": [
    "Kotlin"
   ],
   "projectLibraries": false
  }
 },
 "nbformat": 4,
 "nbformat_minor": 0
}
